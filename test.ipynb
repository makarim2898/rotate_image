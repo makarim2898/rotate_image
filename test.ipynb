{
 "cells": [
  {
   "cell_type": "code",
   "execution_count": 14,
   "metadata": {},
   "outputs": [],
   "source": [
    "import cv2\n",
    "import numpy as np"
   ]
  },
  {
   "cell_type": "code",
   "execution_count": 15,
   "metadata": {},
   "outputs": [
    {
     "name": "stderr",
     "output_type": "stream",
     "text": [
      "<>:1: SyntaxWarning: invalid escape sequence '\\d'\n",
      "<>:1: SyntaxWarning: invalid escape sequence '\\d'\n",
      "C:\\Users\\makar\\AppData\\Local\\Temp\\ipykernel_17936\\1584428207.py:1: SyntaxWarning: invalid escape sequence '\\d'\n",
      "  image_path = 'raw_image\\data_1\\data_no_1_20241208_101828.png'\n"
     ]
    }
   ],
   "source": [
    "image_path = r'foto_dataset\\1.Filtered_dataset\\10. W_RANTAI_NG_MUNDUR_ORING_NG_kurang_bagus\\data_no_7_20241208_104442.png'\n",
    "image_path2 = r'foto_dataset\\1.Filtered_dataset\\10. W_RANTAI_NG_MUNDUR_ORING_NG_kurang_bagus\\data_no_7_20241208_104442.png'\n",
    "\n",
    "image = cv2.imread(image_path)\n",
    "image2 = cv2.imread(image_path2)\n"
   ]
  },
  {
   "cell_type": "code",
   "execution_count": 46,
   "metadata": {},
   "outputs": [
    {
     "data": {
      "text/plain": [
       "3"
      ]
     },
     "execution_count": 46,
     "metadata": {},
     "output_type": "execute_result"
    }
   ],
   "source": [
    "# value = image[0, 0, 1]\n",
    "# print(value)\n",
    "# image[0, 0, 1] = 0\n",
    "# image[0, 0, 1]\n",
    "he, wi, dim = image.shape\n",
    "he\n",
    "wi\n",
    "dim"
   ]
  },
  {
   "cell_type": "code",
   "execution_count": 51,
   "metadata": {},
   "outputs": [
    {
     "name": "stdout",
     "output_type": "stream",
     "text": [
      "x\n",
      "x\n"
     ]
    }
   ],
   "source": [
    "for data in range(2):\n",
    "    print(\"x\")"
   ]
  },
  {
   "cell_type": "code",
   "execution_count": 67,
   "metadata": {},
   "outputs": [],
   "source": [
    "import numpy as np\n",
    "\n",
    "def changeBGR(delta_b=0, delta_g=0, delta_r=0, img=None):\n",
    "    \"\"\"\n",
    "    Mengubah nilai BGR dari gambar.\n",
    "    \n",
    "    Parameters:\n",
    "        delta_b (int): Perubahan nilai pada channel Blue.\n",
    "        delta_g (int): Perubahan nilai pada channel Green.\n",
    "        delta_r (int): Perubahan nilai pada channel Red.\n",
    "        img (numpy.ndarray): Gambar input dengan format BGR.\n",
    "    \n",
    "    Returns:\n",
    "        numpy.ndarray: Gambar yang telah dimodifikasi.\n",
    "    \"\"\"\n",
    "    if img is None:\n",
    "        raise ValueError(\"Parameter 'img' tidak boleh None.\")\n",
    "    if len(img.shape) != 3 or img.shape[2] != 3:\n",
    "        raise ValueError(\"Gambar harus memiliki 3 channel (BGR).\")\n",
    "    \n",
    "    # Buat perubahan dalam bentuk array\n",
    "    changes = np.array([delta_b, delta_g, delta_r], dtype=img.dtype)\n",
    "    \n",
    "    # Terapkan perubahan dengan broadcasting\n",
    "    img = np.clip(img + changes, 0, 255)  # Menjaga nilai dalam rentang 0-255\n",
    "    \n",
    "    return img\n"
   ]
  },
  {
   "cell_type": "code",
   "execution_count": 64,
   "metadata": {},
   "outputs": [],
   "source": [
    "cv2.imshow('Gambar Original', image)\n",
    "cv2.imshow('Gambar rotated', image2)\n",
    "\n",
    "cv2.waitKey(0)\n",
    "cv2.destroyAllWindows()"
   ]
  }
 ],
 "metadata": {
  "kernelspec": {
   "display_name": "base",
   "language": "python",
   "name": "python3"
  },
  "language_info": {
   "codemirror_mode": {
    "name": "ipython",
    "version": 3
   },
   "file_extension": ".py",
   "mimetype": "text/x-python",
   "name": "python",
   "nbconvert_exporter": "python",
   "pygments_lexer": "ipython3",
   "version": "3.12.4"
  }
 },
 "nbformat": 4,
 "nbformat_minor": 2
}
